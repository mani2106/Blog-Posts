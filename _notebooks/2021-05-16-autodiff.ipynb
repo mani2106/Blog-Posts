{
  "nbformat": 4,
  "nbformat_minor": 0,
  "metadata": {
    "colab": {
      "name": "d2l part 5.ipynb",
      "provenance": [],
      "collapsed_sections": [],
      "toc_visible": true,
      "authorship_tag": "ABX9TyNun/6bG121Ok+kJTwkUhs9"
    },
    "kernelspec": {
      "name": "python3",
      "display_name": "Python 3"
    },
    "language_info": {
      "name": "python"
    }
  },
  "cells": [
    {
      "cell_type": "markdown",
      "metadata": {
        "id": "kSsynufnK9VD"
      },
      "source": [
        "# \"Automatic differentiation - d2l.ai Exercises - Part 5\"\n",
        "> \"The fifth notebook in the series solving exercises from d2l.ai, this blog tries to test and understand the working of the autodiff functionality in tensorflow\"\n",
        "\n",
        "- toc: true\n",
        "- branch: master\n",
        "- badges: true\n",
        "- comments: true\n",
        "- categories: [d2l.ai-exercises, deep-learning, tensorflow]\n",
        "- hide: false"
      ]
    },
    {
      "cell_type": "code",
      "metadata": {
        "id": "tME53nlWkY5t"
      },
      "source": [
        "#collapse\n",
        "import tensorflow as tf"
      ],
      "execution_count": 1,
      "outputs": []
    },
    {
      "cell_type": "code",
      "metadata": {
        "id": "jwXWMPTz6MKP"
      },
      "source": [
        "#collapse\n",
        "x = tf.range(4, dtype=tf.float32)\n",
        "# allocate memory\n",
        "x = tf.Variable(x)"
      ],
      "execution_count": null,
      "outputs": []
    },
    {
      "cell_type": "markdown",
      "metadata": {
        "id": "QKUU86jVZcPa"
      },
      "source": [
        "## Why is the second derivative much more expensive to compute than the first derivative?"
      ]
    },
    {
      "cell_type": "markdown",
      "metadata": {
        "id": "qDGYfwO9b2hg"
      },
      "source": [
        "As we have learnt in our previous lessons about the chain rule and its usage to differentiate composite functions, applying the chain rule for a second time quickly adds up the number of times that we need to differentiate. Let's take an example,\n",
        "\n",
        "Suppose that functions  $y=f(u)$  and  $u=g(x)$  are both differentiable, then the chain rule states that,\n",
        "\n",
        "$$\\frac{dy}{dx} = \\frac {dy}{du} * \\frac {du}{dx}$$\n",
        "\n",
        "let's assume $a=\\frac {dy}{du}$ and $b = \\frac {du}{dx}$\n",
        "\n",
        "so a second derivative of that would be (using product rule here),\n",
        "\n",
        "$$\\frac{d^2y}{dx^2} =  a*\\frac{db}{dx} + b * \\frac {da}{dx} $$\n",
        "\n",
        "We can see that the number of differentiations have doubled for this simple composite function. This is a simple reason for why the calculation is expensive for the second derivative."
      ]
    },
    {
      "cell_type": "markdown",
      "metadata": {
        "id": "P8EY_HReZh0G"
      },
      "source": [
        "## After running the function for backpropagation, immediately run it again and see what happens."
      ]
    },
    {
      "cell_type": "markdown",
      "metadata": {
        "id": "lH5cK7XEKA2M"
      },
      "source": [
        "Let's check value of x"
      ]
    },
    {
      "cell_type": "code",
      "metadata": {
        "colab": {
          "base_uri": "https://localhost:8080/"
        },
        "id": "dQ5nvQ7nKDt1",
        "outputId": "d06ec73e-845e-400d-b69e-c4676ade3f3a"
      },
      "source": [
        "x"
      ],
      "execution_count": null,
      "outputs": [
        {
          "output_type": "execute_result",
          "data": {
            "text/plain": [
              "<tf.Variable 'Variable:0' shape=(4,) dtype=float32, numpy=array([0., 1., 2., 3.], dtype=float32)>"
            ]
          },
          "metadata": {
            "tags": []
          },
          "execution_count": 2
        }
      ]
    },
    {
      "cell_type": "markdown",
      "metadata": {
        "id": "4Yve18OtJylt"
      },
      "source": [
        "### 1st time"
      ]
    },
    {
      "cell_type": "code",
      "metadata": {
        "colab": {
          "base_uri": "https://localhost:8080/"
        },
        "id": "Sbbgl6M8JyAC",
        "outputId": "aef89514-e084-4bbb-e0a4-e2db3e042790"
      },
      "source": [
        "with tf.GradientTape() as t:\n",
        "    y = x * x\n",
        "t.gradient(y, x)"
      ],
      "execution_count": null,
      "outputs": [
        {
          "output_type": "execute_result",
          "data": {
            "text/plain": [
              "<tf.Tensor: shape=(4,), dtype=float32, numpy=array([0., 2., 4., 6.], dtype=float32)>"
            ]
          },
          "metadata": {
            "tags": []
          },
          "execution_count": 3
        }
      ]
    },
    {
      "cell_type": "markdown",
      "metadata": {
        "id": "i5S-_nr7J0o1"
      },
      "source": [
        "### 2nd time"
      ]
    },
    {
      "cell_type": "code",
      "metadata": {
        "colab": {
          "base_uri": "https://localhost:8080/",
          "height": 282
        },
        "id": "L6gOzPjAJ3Ik",
        "outputId": "5d114a1f-fe21-4e46-eacf-7ec8ccd6d16f"
      },
      "source": [
        "t.gradient(y, x)"
      ],
      "execution_count": null,
      "outputs": [
        {
          "output_type": "error",
          "ename": "RuntimeError",
          "evalue": "ignored",
          "traceback": [
            "\u001b[0;31m---------------------------------------------------------------------------\u001b[0m",
            "\u001b[0;31mRuntimeError\u001b[0m                              Traceback (most recent call last)",
            "\u001b[0;32m<ipython-input-4-87ae3eb74e70>\u001b[0m in \u001b[0;36m<module>\u001b[0;34m()\u001b[0m\n\u001b[0;32m----> 1\u001b[0;31m \u001b[0mt\u001b[0m\u001b[0;34m.\u001b[0m\u001b[0mgradient\u001b[0m\u001b[0;34m(\u001b[0m\u001b[0my\u001b[0m\u001b[0;34m,\u001b[0m \u001b[0mx\u001b[0m\u001b[0;34m)\u001b[0m\u001b[0;34m\u001b[0m\u001b[0;34m\u001b[0m\u001b[0m\n\u001b[0m",
            "\u001b[0;32m/usr/local/lib/python3.7/dist-packages/tensorflow/python/eager/backprop.py\u001b[0m in \u001b[0;36mgradient\u001b[0;34m(self, target, sources, output_gradients, unconnected_gradients)\u001b[0m\n\u001b[1;32m   1025\u001b[0m     \"\"\"\n\u001b[1;32m   1026\u001b[0m     \u001b[0;32mif\u001b[0m \u001b[0mself\u001b[0m\u001b[0;34m.\u001b[0m\u001b[0m_tape\u001b[0m \u001b[0;32mis\u001b[0m \u001b[0;32mNone\u001b[0m\u001b[0;34m:\u001b[0m\u001b[0;34m\u001b[0m\u001b[0;34m\u001b[0m\u001b[0m\n\u001b[0;32m-> 1027\u001b[0;31m       raise RuntimeError(\"A non-persistent GradientTape can only be used to\"\n\u001b[0m\u001b[1;32m   1028\u001b[0m                          \"compute one set of gradients (or jacobians)\")\n\u001b[1;32m   1029\u001b[0m     \u001b[0;32mif\u001b[0m \u001b[0mself\u001b[0m\u001b[0;34m.\u001b[0m\u001b[0m_recording\u001b[0m\u001b[0;34m:\u001b[0m\u001b[0;34m\u001b[0m\u001b[0;34m\u001b[0m\u001b[0m\n",
            "\u001b[0;31mRuntimeError\u001b[0m: A non-persistent GradientTape can only be used tocompute one set of gradients (or jacobians)"
          ]
        }
      ]
    },
    {
      "cell_type": "markdown",
      "metadata": {
        "id": "mUl4xuDEKO3E"
      },
      "source": [
        "I get the above error when I try to run the backward propagation two times, looking at the documentation of `tf.GradientTape` it is specified that\n",
        "\n",
        "> By default, the resources held by a GradientTape are released as soon as GradientTape.gradient() method is called. To compute multiple gradients over the same computation, create a persistent gradient tape. This allows multiple calls to the gradient() method as resources are released when the tape object is garbage collected."
      ]
    },
    {
      "cell_type": "markdown",
      "metadata": {
        "id": "cYkAt950ZmQd"
      },
      "source": [
        "## [Question 3](http://d2l.ai/chapter_preliminaries/autograd.html#exercises)\n",
        "**TLDR**: Try using a vector/matrix in the function used to demonstrate gradient calculation on a control flow."
      ]
    },
    {
      "cell_type": "markdown",
      "metadata": {
        "id": "pgrN6ryASsWv"
      },
      "source": [
        "Let's bring that function used in the [lesson](http://d2l.ai/chapter_preliminaries/autograd.html#computing-the-gradient-of-python-control-flow)"
      ]
    },
    {
      "cell_type": "code",
      "metadata": {
        "id": "tsrWqCpsNVaq"
      },
      "source": [
        "def f(a):\n",
        "    b = a * 2\n",
        "    while tf.norm(b) < 1000:\n",
        "        b = b * 2\n",
        "    if tf.reduce_sum(b) > 0:\n",
        "        c = b\n",
        "    else:\n",
        "        c = 100 * b\n",
        "    return c"
      ],
      "execution_count": null,
      "outputs": []
    },
    {
      "cell_type": "markdown",
      "metadata": {
        "id": "oTgO-dIaS4cc"
      },
      "source": [
        "In the lesson they have used single value random variable, the question asks us to use a vector or matrix in its place."
      ]
    },
    {
      "cell_type": "markdown",
      "metadata": {
        "id": "a3qfa7_FTbV3"
      },
      "source": [
        "Let's use the following random vector with shape `(1,2)`"
      ]
    },
    {
      "cell_type": "code",
      "metadata": {
        "colab": {
          "base_uri": "https://localhost:8080/"
        },
        "id": "xSJYjNqdR_rb",
        "outputId": "33831cd9-ae10-413f-fa0b-e25d1fd0ca3c"
      },
      "source": [
        "#collapse\n",
        "a = tf.Variable(tf.random.normal(shape=(1, 2)))\n",
        "a"
      ],
      "execution_count": null,
      "outputs": [
        {
          "output_type": "execute_result",
          "data": {
            "text/plain": [
              "<tf.Variable 'Variable:0' shape=(1, 2) dtype=float32, numpy=array([[0.02355854, 0.7092207 ]], dtype=float32)>"
            ]
          },
          "metadata": {
            "tags": []
          },
          "execution_count": 10
        }
      ]
    },
    {
      "cell_type": "markdown",
      "metadata": {
        "id": "VNGuxJPgTXTw"
      },
      "source": [
        "The differentiation"
      ]
    },
    {
      "cell_type": "code",
      "metadata": {
        "colab": {
          "base_uri": "https://localhost:8080/"
        },
        "id": "GNyW2sdkTLUN",
        "outputId": "2061b42d-7ced-4ed7-ec22-514eb21c0c76"
      },
      "source": [
        "#collapse\n",
        "with tf.GradientTape() as t:\n",
        "    d = f(a)\n",
        "d_grad = t.gradient(d, a)\n",
        "d_grad"
      ],
      "execution_count": null,
      "outputs": [
        {
          "output_type": "execute_result",
          "data": {
            "text/plain": [
              "<tf.Tensor: shape=(1, 2), dtype=float32, numpy=array([[2048., 2048.]], dtype=float32)>"
            ]
          },
          "metadata": {
            "tags": []
          },
          "execution_count": 11
        }
      ]
    },
    {
      "cell_type": "markdown",
      "metadata": {
        "id": "xOaUOWY1Tj0Y"
      },
      "source": [
        "We can try using a bigger matrix now."
      ]
    },
    {
      "cell_type": "code",
      "metadata": {
        "colab": {
          "base_uri": "https://localhost:8080/"
        },
        "id": "in8FRP97TjY4",
        "outputId": "ed655e7c-e1b8-4ee7-aeb0-2c066bcf1877"
      },
      "source": [
        "#collapse\n",
        "a = tf.Variable(tf.random.normal(shape=(5, 3, 2)))\n",
        "a"
      ],
      "execution_count": null,
      "outputs": [
        {
          "output_type": "execute_result",
          "data": {
            "text/plain": [
              "<tf.Variable 'Variable:0' shape=(5, 3, 2) dtype=float32, numpy=\n",
              "array([[[ 1.075387  ,  0.3135932 ],\n",
              "        [-0.9573184 ,  0.06560528],\n",
              "        [-0.18362595, -0.53352755]],\n",
              "\n",
              "       [[ 0.48579827,  0.7452166 ],\n",
              "        [ 0.08363861, -1.1838139 ],\n",
              "        [-0.23465118, -0.7641606 ]],\n",
              "\n",
              "       [[-1.6045334 , -0.50408304],\n",
              "        [-0.82722497, -0.26551095],\n",
              "        [ 0.5110664 ,  0.68872666]],\n",
              "\n",
              "       [[ 0.9107071 ,  1.2259225 ],\n",
              "        [ 0.43528086, -0.36280373],\n",
              "        [-1.7287321 , -0.54161024]],\n",
              "\n",
              "       [[ 0.01597405, -0.01879804],\n",
              "        [ 1.75937   ,  1.2245483 ],\n",
              "        [ 0.04912755,  0.9361492 ]]], dtype=float32)>"
            ]
          },
          "metadata": {
            "tags": []
          },
          "execution_count": 12
        }
      ]
    },
    {
      "cell_type": "code",
      "metadata": {
        "colab": {
          "base_uri": "https://localhost:8080/"
        },
        "id": "ERtN6xrdTz6h",
        "outputId": "f38e53b6-7bf5-4858-e22e-aaaadf64e078"
      },
      "source": [
        "#collapse\n",
        "with tf.GradientTape() as t:\n",
        "    d = f(a)\n",
        "d_grad = t.gradient(d, a)\n",
        "d_grad"
      ],
      "execution_count": null,
      "outputs": [
        {
          "output_type": "execute_result",
          "data": {
            "text/plain": [
              "<tf.Tensor: shape=(5, 3, 2), dtype=float32, numpy=\n",
              "array([[[256., 256.],\n",
              "        [256., 256.],\n",
              "        [256., 256.]],\n",
              "\n",
              "       [[256., 256.],\n",
              "        [256., 256.],\n",
              "        [256., 256.]],\n",
              "\n",
              "       [[256., 256.],\n",
              "        [256., 256.],\n",
              "        [256., 256.]],\n",
              "\n",
              "       [[256., 256.],\n",
              "        [256., 256.],\n",
              "        [256., 256.]],\n",
              "\n",
              "       [[256., 256.],\n",
              "        [256., 256.],\n",
              "        [256., 256.]]], dtype=float32)>"
            ]
          },
          "metadata": {
            "tags": []
          },
          "execution_count": 13
        }
      ]
    },
    {
      "cell_type": "markdown",
      "metadata": {
        "id": "2Jpo6tfJUmKD"
      },
      "source": [
        "So when we differentiate a single value, the resultant gradient vector is similar in shape, as in the cases of the higher dimensional vectors/matrices."
      ]
    },
    {
      "cell_type": "markdown",
      "metadata": {
        "id": "VV2oGnZ5VRYr"
      },
      "source": [
        "I did not get what the question was trying to test the reader on, I read the [discussion](https://discuss.d2l.ai/t/auto-differentiation/200/4), A person said to use `tf.hessians` to a related question. Let's see why"
      ]
    },
    {
      "cell_type": "markdown",
      "metadata": {
        "id": "OmwAdtk9WL96"
      },
      "source": [
        "Let's take a look at the matrix we have"
      ]
    },
    {
      "cell_type": "code",
      "metadata": {
        "colab": {
          "base_uri": "https://localhost:8080/"
        },
        "id": "Ljec5Z4kWIv8",
        "outputId": "38f346e7-9987-4821-aa7f-0dd515fe9ed8"
      },
      "source": [
        "#collapse\n",
        "a = tf.Variable(tf.random.normal(shape=()), trainable=True)\n",
        "a"
      ],
      "execution_count": null,
      "outputs": [
        {
          "output_type": "execute_result",
          "data": {
            "text/plain": [
              "<tf.Variable 'Variable:0' shape=() dtype=float32, numpy=-1.1861123>"
            ]
          },
          "metadata": {
            "tags": []
          },
          "execution_count": 62
        }
      ]
    },
    {
      "cell_type": "markdown",
      "metadata": {
        "id": "bz6y7HSEbHJw"
      },
      "source": [
        "The following is the suggested way to calculate a [hessian](https://www.tensorflow.org/guide/advanced_autodiff#example_hessian) based vector product"
      ]
    },
    {
      "cell_type": "code",
      "metadata": {
        "id": "poMHM6kEast2"
      },
      "source": [
        "# let's use hessians\n",
        "with tf.GradientTape() as t2:\n",
        "    with tf.GradientTape() as t1:\n",
        "        d1 = f(a)\n",
        "    diff_1 = t1.gradient(d1, a)\n",
        "diff_2 = t2.gradient(diff_1, a)\n",
        "diff_2"
      ],
      "execution_count": null,
      "outputs": []
    },
    {
      "cell_type": "code",
      "metadata": {
        "colab": {
          "base_uri": "https://localhost:8080/"
        },
        "id": "HaVLJD5IdRyO",
        "outputId": "f554d954-c291-4cdd-9869-5073888e9c2c"
      },
      "source": [
        "diff_1, diff_2"
      ],
      "execution_count": null,
      "outputs": [
        {
          "output_type": "execute_result",
          "data": {
            "text/plain": [
              "(<tf.Tensor: shape=(), dtype=float32, numpy=102400.0>, None)"
            ]
          },
          "metadata": {
            "tags": []
          },
          "execution_count": 64
        }
      ]
    },
    {
      "cell_type": "markdown",
      "metadata": {
        "id": "vlJNmfaleaFm"
      },
      "source": [
        "The following is modified based on [this](https://www.tensorflow.org/guide/advanced_autodiff#example_hessian) to see what happens."
      ]
    },
    {
      "cell_type": "code",
      "metadata": {
        "colab": {
          "base_uri": "https://localhost:8080/"
        },
        "id": "C9hhAE9WWQKH",
        "outputId": "2d98f3ae-c8c5-4910-a850-44b80ba2862d"
      },
      "source": [
        "# let's use jacobian\n",
        "with tf.GradientTape() as t4:\n",
        "    t4.watch(a)\n",
        "    with tf.GradientTape() as t3:\n",
        "        t3.watch(a)\n",
        "        d = f(a)\n",
        "    dif = t3.gradient(d, a)\n",
        "j_diff = t4.jacobian(dif, a)"
      ],
      "execution_count": null,
      "outputs": [
        {
          "output_type": "stream",
          "text": [
            "WARNING:tensorflow:11 out of the last 11 calls to <function pfor.<locals>.f at 0x7f5d138bd5f0> triggered tf.function retracing. Tracing is expensive and the excessive number of tracings could be due to (1) creating @tf.function repeatedly in a loop, (2) passing tensors with different shapes, (3) passing Python objects instead of tensors. For (1), please define your @tf.function outside of the loop. For (2), @tf.function has experimental_relax_shapes=True option that relaxes argument shapes that can avoid unnecessary retracing. For (3), please refer to https://www.tensorflow.org/guide/function#controlling_retracing and https://www.tensorflow.org/api_docs/python/tf/function for  more details.\n"
          ],
          "name": "stdout"
        }
      ]
    },
    {
      "cell_type": "code",
      "metadata": {
        "colab": {
          "base_uri": "https://localhost:8080/"
        },
        "id": "8eoGu3ZgevPe",
        "outputId": "dbdad234-d130-4cd2-8d4d-bb29216364c4"
      },
      "source": [
        "dif, j_diff"
      ],
      "execution_count": null,
      "outputs": [
        {
          "output_type": "execute_result",
          "data": {
            "text/plain": [
              "(<tf.Tensor: shape=(), dtype=float32, numpy=102400.0>, None)"
            ]
          },
          "metadata": {
            "tags": []
          },
          "execution_count": 66
        }
      ]
    },
    {
      "cell_type": "markdown",
      "metadata": {
        "id": "Z6jHz9MEe8FE"
      },
      "source": [
        "Both the methods return the same result for the small vector, where the second order derivative is turning into None, I am not sure why..., thinking about the question asked, since $f(a)$ is no longer scalar, the resultant gradient is also a vector/matrix. So I am again not sure of the suggestion given."
      ]
    },
    {
      "cell_type": "markdown",
      "metadata": {
        "id": "Ydl-Y5ShZpfl"
      },
      "source": [
        "## Redesign an example of finding the gradient of the control flow. Run and analyze the result."
      ]
    },
    {
      "cell_type": "markdown",
      "metadata": {
        "id": "ZdSyjiVn5Dp_"
      },
      "source": [
        "The example given in the lesson was a little complex, I will use a simple control flow, to see if we can calculate the gradient with autodiff."
      ]
    },
    {
      "cell_type": "markdown",
      "metadata": {
        "id": "BmBkrRkt5R7G"
      },
      "source": [
        "### Control flow"
      ]
    },
    {
      "cell_type": "markdown",
      "metadata": {
        "id": "RajA3o7P6tmd"
      },
      "source": [
        "#### Test with exponentiation"
      ]
    },
    {
      "cell_type": "markdown",
      "metadata": {
        "id": "QuZ-si4Z5lB2"
      },
      "source": [
        "Let's start with a simple transformation, We all know the gradient of an exponential function is the same."
      ]
    },
    {
      "cell_type": "code",
      "metadata": {
        "id": "7bmM0_du5VaR"
      },
      "source": [
        "def f(x):\n",
        "    return tf.math.exp(x)"
      ],
      "execution_count": 8,
      "outputs": []
    },
    {
      "cell_type": "markdown",
      "metadata": {
        "id": "7W_AmNuF6bUW"
      },
      "source": [
        "Let's take a single value"
      ]
    },
    {
      "cell_type": "code",
      "metadata": {
        "colab": {
          "base_uri": "https://localhost:8080/"
        },
        "id": "bGF_UiBy6TBj",
        "outputId": "60655222-a813-4db3-d99b-a63cef060547"
      },
      "source": [
        "#collapse\n",
        "x = tf.Variable(tf.random.normal(shape=()), trainable=True)\n",
        "x"
      ],
      "execution_count": 9,
      "outputs": [
        {
          "output_type": "execute_result",
          "data": {
            "text/plain": [
              "<tf.Variable 'Variable:0' shape=() dtype=float32, numpy=1.5236874>"
            ]
          },
          "metadata": {
            "tags": []
          },
          "execution_count": 9
        }
      ]
    },
    {
      "cell_type": "code",
      "metadata": {
        "id": "acq32dgd6UxZ"
      },
      "source": [
        "with tf.GradientTape() as t:\n",
        "    y = f(x)\n",
        "\n",
        "dy_dx = t.gradient(y, x)"
      ],
      "execution_count": 10,
      "outputs": []
    },
    {
      "cell_type": "code",
      "metadata": {
        "colab": {
          "base_uri": "https://localhost:8080/"
        },
        "id": "u4jHiqJK6mqr",
        "outputId": "7831bf59-063d-4f47-c057-113ee0d3c0e7"
      },
      "source": [
        "y == dy_dx"
      ],
      "execution_count": 11,
      "outputs": [
        {
          "output_type": "execute_result",
          "data": {
            "text/plain": [
              "<tf.Tensor: shape=(), dtype=bool, numpy=True>"
            ]
          },
          "metadata": {
            "tags": []
          },
          "execution_count": 11
        }
      ]
    },
    {
      "cell_type": "markdown",
      "metadata": {
        "id": "uM7PmXAi6xi9"
      },
      "source": [
        "#### Test with a random function"
      ]
    },
    {
      "cell_type": "markdown",
      "metadata": {
        "id": "c5Zt-7zT9q4R"
      },
      "source": [
        "So now we can try performing some transformations on the value.\n",
        "\n",
        "$$y \\rightarrow f(x) \\rightarrow \\left\\{\\left(\n",
        "    \\eqalign{\n",
        "        \\sin{x}, if \\sum{x}_n/n > 0.5\\\\\n",
        "        2 * \\cos{x}, else\\\\\n",
        "    } \n",
        "  \\right) \\right\\}$$"
      ]
    },
    {
      "cell_type": "code",
      "metadata": {
        "id": "jdkoAxKJ62Od"
      },
      "source": [
        "def f(x):\n",
        "    if tf.math.reduce_sum(x) > 0.5:\n",
        "        x = tf.math.sin(x)\n",
        "    else:\n",
        "        x = 2 * tf.math.cos(x)\n",
        "    return x"
      ],
      "execution_count": 36,
      "outputs": []
    },
    {
      "cell_type": "code",
      "metadata": {
        "colab": {
          "base_uri": "https://localhost:8080/"
        },
        "id": "C21pmG4V8hv_",
        "outputId": "b4e1d093-32ea-4089-ca41-8990a44cd05b"
      },
      "source": [
        "#collapse\n",
        "x = tf.Variable(tf.random.normal(shape=(20, 1)), trainable=True)\n",
        "x"
      ],
      "execution_count": 37,
      "outputs": [
        {
          "output_type": "execute_result",
          "data": {
            "text/plain": [
              "<tf.Variable 'Variable:0' shape=(20, 1) dtype=float32, numpy=\n",
              "array([[ 0.7322539 ],\n",
              "       [-1.2769327 ],\n",
              "       [ 0.85455877],\n",
              "       [-0.96424586],\n",
              "       [-0.7693011 ],\n",
              "       [ 0.33113363],\n",
              "       [-1.3973997 ],\n",
              "       [-2.1953282 ],\n",
              "       [ 1.4873    ],\n",
              "       [-0.7533999 ],\n",
              "       [-0.58519673],\n",
              "       [-0.94799626],\n",
              "       [ 0.67873853],\n",
              "       [ 0.34689212],\n",
              "       [ 0.4139984 ],\n",
              "       [ 0.5342669 ],\n",
              "       [-0.06651524],\n",
              "       [-0.19935435],\n",
              "       [-0.3597326 ],\n",
              "       [-0.24857213]], dtype=float32)>"
            ]
          },
          "metadata": {
            "tags": []
          },
          "execution_count": 37
        }
      ]
    },
    {
      "cell_type": "markdown",
      "metadata": {
        "id": "NJLmyQRwKjKG"
      },
      "source": [
        "The differentiation"
      ]
    },
    {
      "cell_type": "code",
      "metadata": {
        "colab": {
          "base_uri": "https://localhost:8080/"
        },
        "id": "b07m-o178zn2",
        "outputId": "dea13bf3-a05c-4c50-c0c7-5dfe01f318e1"
      },
      "source": [
        "#collapse_show\n",
        "with tf.GradientTape() as t:\n",
        "    y = f(x)\n",
        "\n",
        "dy_dx = t.gradient(y, x)\n",
        "dy_dx"
      ],
      "execution_count": 38,
      "outputs": [
        {
          "output_type": "execute_result",
          "data": {
            "text/plain": [
              "<tf.Tensor: shape=(20, 1), dtype=float32, numpy=\n",
              "array([[-1.337095  ],\n",
              "       [ 1.9142638 ],\n",
              "       [-1.5085627 ],\n",
              "       [ 1.6432385 ],\n",
              "       [ 1.3912666 ],\n",
              "       [-0.6502306 ],\n",
              "       [ 1.9700089 ],\n",
              "       [ 1.6224738 ],\n",
              "       [-1.9930325 ],\n",
              "       [ 1.368245  ],\n",
              "       [ 1.1047268 ],\n",
              "       [ 1.6244967 ],\n",
              "       [-1.2556233 ],\n",
              "       [-0.6799534 ],\n",
              "       [-0.8045463 ],\n",
              "       [-1.0184205 ],\n",
              "       [ 0.13293241],\n",
              "       [ 0.396073  ],\n",
              "       [ 0.7040479 ],\n",
              "       [ 0.49204046]], dtype=float32)>"
            ]
          },
          "metadata": {
            "tags": []
          },
          "execution_count": 38
        }
      ]
    },
    {
      "cell_type": "code",
      "metadata": {
        "colab": {
          "base_uri": "https://localhost:8080/",
          "height": 265
        },
        "id": "86v9zM5DIs7O",
        "outputId": "e9be4f00-f3e6-4548-c2b7-0e24b6c4e0ed"
      },
      "source": [
        "#collapse\n",
        "x_axis = tf.range(0, 20, 1)\n",
        "plt.plot(x_axis, tf.reshape(f(x), [-1]).numpy(), color='r', label='y')\n",
        "plt.plot(x_axis, tf.reshape(dy_dx, [-1]).numpy(), color='g', label='dy_dx')\n",
        "plt.legend(loc='lower right')\n",
        "plt.show()"
      ],
      "execution_count": 44,
      "outputs": [
        {
          "output_type": "display_data",
          "data": {
            "image/png": "[encoded data removed]",
            "text/plain": [
              "<Figure size 432x288 with 1 Axes>"
            ]
          },
          "metadata": {
            "tags": [],
            "needs_background": "light"
          }
        }
      ]
    },
    {
      "cell_type": "markdown",
      "metadata": {
        "id": "E0XJIeuhKgZO"
      },
      "source": [
        "The graph seems to be validating differentiation, since we can see the green line following the red line"
      ]
    },
    {
      "cell_type": "markdown",
      "metadata": {
        "id": "m62tJFi-Z2hN"
      },
      "source": [
        "## Let  $f(x)=sin(x)$ . Plot  $f(x)$  and  $\\frac {df(x)}{dx}$ , where the latter is computed without exploiting that  $f′(x)=cos(x)$."
      ]
    },
    {
      "cell_type": "markdown",
      "metadata": {
        "id": "telVbBEnrhxz"
      },
      "source": [
        "Let's setup the required variables"
      ]
    },
    {
      "cell_type": "code",
      "metadata": {
        "id": "OWjjN0p9q1d5"
      },
      "source": [
        "#collapse_show\n",
        "# sine function\n",
        "f = tf.math.sin\n",
        "\n",
        "x = tf.Variable(tf.range(-10, 10, 0.1))\n",
        "with tf.GradientTape() as t:\n",
        "    y = f(x)\n",
        "\n",
        "# the gradient of sin(x) is cos(x)\n",
        "dy_dx = t.gradient(y, x)"
      ],
      "execution_count": null,
      "outputs": []
    },
    {
      "cell_type": "code",
      "metadata": {
        "id": "y1gJCQEqrzWh"
      },
      "source": [
        "#hide\n",
        "import matplotlib.pyplot as plt"
      ],
      "execution_count": 39,
      "outputs": []
    },
    {
      "cell_type": "code",
      "metadata": {
        "colab": {
          "base_uri": "https://localhost:8080/",
          "height": 265
        },
        "id": "ZrdRIRKks5IO",
        "outputId": "21443a0a-57f2-4695-94d5-ba9c5e3e8da5"
      },
      "source": [
        "#collapse\n",
        "plt.figure(1)\n",
        "x_axis = tf.range(-10, 10, 0.1)\n",
        "plt.plot(x_axis, f(x).numpy(), color='r')\n",
        "plt.plot(x_axis, dy_dx.numpy(), color='g')\n",
        "plt.show()"
      ],
      "execution_count": null,
      "outputs": [
        {
          "output_type": "display_data",
          "data": {
            "image/png": "[encoded data removed]",
            "text/plain": [
              "<Figure size 432x288 with 1 Axes>"
            ]
          },
          "metadata": {
            "tags": [],
            "needs_background": "light"
          }
        }
      ]
    }
  ]
}